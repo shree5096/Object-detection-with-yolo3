{
 "cells": [
  {
   "cell_type": "code",
   "execution_count": 3,
   "metadata": {},
   "outputs": [],
   "source": [
    "import cv2\n",
    "import numpy as np"
   ]
  },
  {
   "cell_type": "code",
   "execution_count": 4,
   "metadata": {},
   "outputs": [],
   "source": [
    "net = cv2.dnn.readNet('yolov3.weights','yolov3.cfg')"
   ]
  },
  {
   "cell_type": "code",
   "execution_count": 8,
   "metadata": {},
   "outputs": [
    {
     "name": "stdout",
     "output_type": "stream",
     "text": [
      "['person', 'bicycle', 'car', 'motorbike', 'aeroplane', 'bus', 'train', 'truck', 'boat', 'traffic light', 'fire hydrant', 'stop sign', 'parking meter', 'bench', 'bird', 'cat', 'dog', 'horse', 'sheep', 'cow', 'elephant', 'bear', 'zebra', 'giraffe', 'backpack', 'umbrella', 'handbag', 'tie', 'suitcase', 'frisbee', 'skis', 'snowboard', 'sports ball', 'kite', 'baseball bat', 'baseball glove', 'skateboard', 'surfboard', 'tennis racket', 'bottle', 'wine glass', 'cup', 'fork', 'knife', 'spoon', 'bowl', 'banana', 'apple', 'sandwich', 'orange', 'broccoli', 'carrot', 'hot dog', 'pizza', 'donut', 'cake', 'chair', 'sofa', 'pottedplant', 'bed', 'diningtable', 'toilet', 'tvmonitor', 'laptop', 'mouse', 'remote', 'keyboard', 'cell phone', 'microwave', 'oven', 'toaster', 'sink', 'refrigerator', 'book', 'clock', 'vase', 'scissors', 'teddy bear', 'hair drier', 'toothbrush']\n"
     ]
    }
   ],
   "source": [
    "classes=[]\n",
    "with open('coco.names','r')as f:\n",
    "    classes = f.read().splitlines()\n",
    "print(classes)    "
   ]
  },
  {
   "cell_type": "code",
   "execution_count": 29,
   "metadata": {},
   "outputs": [],
   "source": [
    "img=cv2.imread('C:/Users/user/Desktop/DS/deep learning/darknet-master/1.jpg')"
   ]
  },
  {
   "cell_type": "code",
   "execution_count": 30,
   "metadata": {
    "collapsed": true
   },
   "outputs": [
    {
     "data": {
      "text/plain": [
       "array([[[ 73,  97,  55],\n",
       "        [ 48,  69,  37],\n",
       "        [ 44,  57,  41],\n",
       "        ...,\n",
       "        [ 90, 107, 134],\n",
       "        [ 94, 112, 141],\n",
       "        [ 99, 117, 146]],\n",
       "\n",
       "       [[129, 151, 116],\n",
       "        [ 74,  93,  68],\n",
       "        [ 43,  55,  43],\n",
       "        ...,\n",
       "        [ 87, 104, 131],\n",
       "        [ 91, 110, 137],\n",
       "        [ 96, 114, 143]],\n",
       "\n",
       "       [[159, 177, 154],\n",
       "        [ 90, 106,  89],\n",
       "        [ 45,  55,  49],\n",
       "        ...,\n",
       "        [ 82,  99, 125],\n",
       "        [ 89, 106, 133],\n",
       "        [ 91, 110, 137]],\n",
       "\n",
       "       ...,\n",
       "\n",
       "       [[211, 201, 191],\n",
       "        [213, 203, 193],\n",
       "        [215, 205, 195],\n",
       "        ...,\n",
       "        [ 33,  29,  18],\n",
       "        [ 32,  28,  17],\n",
       "        [ 32,  28,  17]],\n",
       "\n",
       "       [[210, 200, 190],\n",
       "        [211, 201, 191],\n",
       "        [212, 202, 192],\n",
       "        ...,\n",
       "        [ 31,  27,  16],\n",
       "        [ 31,  27,  16],\n",
       "        [ 31,  27,  16]],\n",
       "\n",
       "       [[210, 200, 190],\n",
       "        [211, 201, 191],\n",
       "        [212, 202, 192],\n",
       "        ...,\n",
       "        [ 31,  27,  16],\n",
       "        [ 31,  27,  16],\n",
       "        [ 31,  27,  16]]], dtype=uint8)"
      ]
     },
     "execution_count": 30,
     "metadata": {},
     "output_type": "execute_result"
    }
   ],
   "source": [
    "img"
   ]
  },
  {
   "cell_type": "code",
   "execution_count": 31,
   "metadata": {},
   "outputs": [
    {
     "data": {
      "text/plain": [
       "numpy.ndarray"
      ]
     },
     "execution_count": 31,
     "metadata": {},
     "output_type": "execute_result"
    }
   ],
   "source": [
    "type(img)"
   ]
  },
  {
   "cell_type": "code",
   "execution_count": 32,
   "metadata": {},
   "outputs": [
    {
     "data": {
      "text/plain": [
       "(450, 1080, 3)"
      ]
     },
     "execution_count": 32,
     "metadata": {},
     "output_type": "execute_result"
    }
   ],
   "source": [
    "img.shape"
   ]
  },
  {
   "cell_type": "code",
   "execution_count": 35,
   "metadata": {},
   "outputs": [],
   "source": [
    "cv2.imshow('Image',img)\n",
    "while True:\n",
    "    cv2.imshow(\"Image\",img)\n",
    "    if cv2.waitKey=0\n",
    "        break\n",
    "      "
   ]
  },
  {
   "cell_type": "code",
   "execution_count": null,
   "metadata": {},
   "outputs": [],
   "source": []
  },
  {
   "cell_type": "code",
   "execution_count": null,
   "metadata": {},
   "outputs": [],
   "source": []
  },
  {
   "cell_type": "code",
   "execution_count": null,
   "metadata": {},
   "outputs": [],
   "source": []
  }
 ],
 "metadata": {
  "kernelspec": {
   "display_name": "Python 3",
   "language": "python",
   "name": "python3"
  },
  "language_info": {
   "codemirror_mode": {
    "name": "ipython",
    "version": 3
   },
   "file_extension": ".py",
   "mimetype": "text/x-python",
   "name": "python",
   "nbconvert_exporter": "python",
   "pygments_lexer": "ipython3",
   "version": "3.6.12"
  }
 },
 "nbformat": 4,
 "nbformat_minor": 4
}
